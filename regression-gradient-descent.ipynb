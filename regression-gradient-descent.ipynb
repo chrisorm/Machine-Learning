{
 "cells": [
  {
   "cell_type": "code",
   "execution_count": 161,
   "metadata": {
    "collapsed": true
   },
   "outputs": [],
   "source": [
    "from sklearn.datasets import make_regression\n",
    "import numpy as np\n",
    "import matplotlib.pyplot as plt\n",
    "%matplotlib inline"
   ]
  },
  {
   "cell_type": "code",
   "execution_count": 216,
   "metadata": {
    "collapsed": false
   },
   "outputs": [
    {
     "data": {
      "text/plain": [
       "array(87.73730719279554)"
      ]
     },
     "execution_count": 216,
     "metadata": {},
     "output_type": "execute_result"
    }
   ],
   "source": [
    "X, y,wt= make_regression(n_samples=2000,n_features=1, n_informative=1, noise=3,random_state=42, coef=True)\n",
    "wt"
   ]
  },
  {
   "cell_type": "code",
   "execution_count": 217,
   "metadata": {
    "collapsed": false
   },
   "outputs": [],
   "source": [
    "if y.ndim <2:\n",
    "    y = y.reshape((len(y),1))\n"
   ]
  },
  {
   "cell_type": "code",
   "execution_count": 218,
   "metadata": {
    "collapsed": false
   },
   "outputs": [],
   "source": [
    "def basis(X):\n",
    "    \"\"\"\n",
    "    Use a basis function to incorporate the bias weight, by adding a feature of all 1s to the X data.\n",
    "    \"\"\"\n",
    "    onescol = np.ones((X.shape[0],1))\n",
    "    return np.concatenate([onescol, X], axis=1)\n",
    "\n",
    "def cost(X,y,w):\n",
    "    return np.sum((y-X.dot(w).T).dot((y-X.dot(w))))\n",
    "\n",
    "def derivative(X,y,w):\n",
    "    #print(cost(X,y,w))\n",
    "    return X.T.dot((y-X.dot(w)))"
   ]
  },
  {
   "cell_type": "code",
   "execution_count": 219,
   "metadata": {
    "collapsed": false
   },
   "outputs": [
    {
     "data": {
      "text/plain": [
       "(200, 2)"
      ]
     },
     "execution_count": 219,
     "metadata": {},
     "output_type": "execute_result"
    }
   ],
   "source": [
    "Xn = basis(X)\n",
    "Xn.shape"
   ]
  },
  {
   "cell_type": "code",
   "execution_count": 220,
   "metadata": {
    "collapsed": false
   },
   "outputs": [
    {
     "data": {
      "text/plain": [
       "(200, 1)"
      ]
     },
     "execution_count": 220,
     "metadata": {},
     "output_type": "execute_result"
    }
   ],
   "source": [
    "y.shape"
   ]
  },
  {
   "cell_type": "code",
   "execution_count": 221,
   "metadata": {
    "collapsed": false
   },
   "outputs": [
    {
     "data": {
      "text/plain": [
       "array([[ 0.73681341],\n",
       "       [ 0.44423067]])"
      ]
     },
     "execution_count": 221,
     "metadata": {},
     "output_type": "execute_result"
    }
   ],
   "source": [
    "samplew = np.random.random((Xn.shape[1], y.shape[1]))\n",
    "samplew"
   ]
  },
  {
   "cell_type": "code",
   "execution_count": 222,
   "metadata": {
    "collapsed": false
   },
   "outputs": [
    {
     "data": {
      "text/plain": [
       "(200, 1)"
      ]
     },
     "execution_count": 222,
     "metadata": {},
     "output_type": "execute_result"
    }
   ],
   "source": [
    "#example use\n",
    "yp = Xn.dot(samplew)\n",
    "yp.shape"
   ]
  },
  {
   "cell_type": "code",
   "execution_count": 230,
   "metadata": {
    "collapsed": false
   },
   "outputs": [],
   "source": [
    "alpha = 0.0001\n",
    "w=samplew.copy()\n",
    "eps = 1e-6"
   ]
  },
  {
   "cell_type": "code",
   "execution_count": 239,
   "metadata": {
    "collapsed": false
   },
   "outputs": [
    {
     "name": "stdout",
     "output_type": "stream",
     "text": [
      "Took 88 iterations\n",
      "Best solution has cost  -14.4942574719\n",
      "[[  0.42855289]\n",
      " [ 87.6260362 ]]\n"
     ]
    },
    {
     "data": {
      "text/plain": [
       "[<matplotlib.lines.Line2D at 0x7f0fa65df6a0>]"
      ]
     },
     "execution_count": 239,
     "metadata": {},
     "output_type": "execute_result"
    },
    {
     "data": {
      "image/png": "[encoded data removed]",
      "text/plain": [
       "<matplotlib.figure.Figure at 0x7f0fa685acc0>"
      ]
     },
     "metadata": {},
     "output_type": "display_data"
    }
   ],
   "source": [
    "errors = []\n",
    "w=samplew.copy()\n",
    "for i in range(1000):\n",
    "    adjustment = alpha*derivative(Xn, y, w)\n",
    "    w += adjustment\n",
    "    errors.append(-0.5*cost(Xn, y,w))\n",
    "    if (i% 1000 == 0) and (i !=0) :\n",
    "        print(-0.5*cost(Xn,y,w))\n",
    "    if np.max(adjustment) < eps:\n",
    "        print(\"Took \"+str(i)+\" iterations\")\n",
    "        print(\"Best solution has cost \",cost(Xn,y,w))\n",
    "        print(w)\n",
    "        break\n",
    "plt.plot(errors)"
   ]
  },
  {
   "cell_type": "code",
   "execution_count": 242,
   "metadata": {
    "collapsed": false
   },
   "outputs": [
    {
     "name": "stdout",
     "output_type": "stream",
     "text": [
      "[[ 0.73681341]\n",
      " [ 0.44423067]]\n"
     ]
    },
    {
     "data": {
      "text/plain": [
       "array([[  0.35689772],\n",
       "       [ 87.13705046]])"
      ]
     },
     "execution_count": 242,
     "metadata": {},
     "output_type": "execute_result"
    },
    {
     "data": {
      "image/png": "[encoded data removed]",
      "text/plain": [
       "<matplotlib.figure.Figure at 0x7f0fa64e73c8>"
      ]
     },
     "metadata": {},
     "output_type": "display_data"
    }
   ],
   "source": [
    "errors2 = []\n",
    "w=samplew.copy()\n",
    "print(w)\n",
    "for t in range(30):\n",
    "    for i in range(Xn.shape[0]):\n",
    "        x_st = Xn[i,:].reshape(1,Xn.shape[1])\n",
    "        y_st = y[i,:].reshape(1,y.shape[1])\n",
    "        adjustment = alpha*derivative(x_st, y_st, w)\n",
    "        w += adjustment\n",
    "        errors2.append(cost(x_st, y_st,w))\n",
    "        if (i% 1000 == 0) and (i !=0) :\n",
    "            print(cost(Xn,y,w))\n",
    "    \n",
    "\n",
    "plt.plot(errors2)\n",
    "w"
   ]
  },
  {
   "cell_type": "code",
   "execution_count": 172,
   "metadata": {
    "collapsed": false
   },
   "outputs": [
    {
     "data": {
      "text/plain": [
       "array(41.7411003148779)"
      ]
     },
     "execution_count": 172,
     "metadata": {},
     "output_type": "execute_result"
    }
   ],
   "source": [
    "wt"
   ]
  },
  {
   "cell_type": "code",
   "execution_count": 237,
   "metadata": {
    "collapsed": false
   },
   "outputs": [
    {
     "data": {
      "text/plain": [
       "[<matplotlib.lines.Line2D at 0x7f0fa675b780>]"
      ]
     },
     "execution_count": 237,
     "metadata": {},
     "output_type": "execute_result"
    },
    {
     "data": {
      "image/png": "[encoded data removed]",
      "text/plain": [
       "<matplotlib.figure.Figure at 0x7f0fa674de10>"
      ]
     },
     "metadata": {},
     "output_type": "display_data"
    }
   ],
   "source": [
    "fig = plt.figure(figsize=(15,10))\n",
    "ax = fig.add_subplot(111)\n",
    "ax.scatter(X, y)\n",
    "xs = np.linspace(np.min(X), np.max(X), 300).reshape(len(xs),1)\n",
    "xsn = basis(xs)\n",
    "ys = xsn.dot(w)\n",
    "ax.plot(xs, ys)"
   ]
  },
  {
   "cell_type": "code",
   "execution_count": null,
   "metadata": {
    "collapsed": true
   },
   "outputs": [],
   "source": []
  }
 ],
 "metadata": {
  "anaconda-cloud": {},
  "kernelspec": {
   "display_name": "Python [conda env:p3]",
   "language": "python",
   "name": "conda-env-p3-py"
  },
  "language_info": {
   "codemirror_mode": {
    "name": "ipython",
    "version": 3
   },
   "file_extension": ".py",
   "mimetype": "text/x-python",
   "name": "python",
   "nbconvert_exporter": "python",
   "pygments_lexer": "ipython3",
   "version": "3.5.2"
  }
 },
 "nbformat": 4,
 "nbformat_minor": 1
}
