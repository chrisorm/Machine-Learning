{
 "cells": [
  {
   "cell_type": "code",
   "execution_count": 8,
   "metadata": {
    "collapsed": true
   },
   "outputs": [],
   "source": [
    "import numpy as np\n",
    "import matplotlib.pyplot as plt \n",
    "%matplotlib inline"
   ]
  },
  {
   "cell_type": "code",
   "execution_count": 9,
   "metadata": {
    "collapsed": false
   },
   "outputs": [
    {
     "data": {
      "text/plain": [
       "array([[ 0],\n",
       "       [ 1],\n",
       "       [ 2],\n",
       "       [ 3],\n",
       "       [ 4],\n",
       "       [ 5],\n",
       "       [ 6],\n",
       "       [ 7],\n",
       "       [ 8],\n",
       "       [ 9],\n",
       "       [10]])"
      ]
     },
     "execution_count": 9,
     "metadata": {},
     "output_type": "execute_result"
    }
   ],
   "source": [
    "x = np.arange(0,11).reshape(11,1)\n",
    "x"
   ]
  },
  {
   "cell_type": "code",
   "execution_count": 137,
   "metadata": {
    "collapsed": false
   },
   "outputs": [
    {
     "data": {
      "text/plain": [
       "array([[-1.09162889],\n",
       "       [ 0.93290209],\n",
       "       [ 1.71480208],\n",
       "       [ 2.62935328],\n",
       "       [ 4.45636021],\n",
       "       [ 5.55433513],\n",
       "       [ 6.15488895],\n",
       "       [ 7.1874907 ],\n",
       "       [ 8.62432302],\n",
       "       [ 8.28490044],\n",
       "       [ 9.41864359]])"
      ]
     },
     "execution_count": 137,
     "metadata": {},
     "output_type": "execute_result"
    }
   ],
   "source": [
    "beta =0.5*np.identity(11)\n",
    "alpha =0.2*np.identity(11)\n",
    "t = x + np.random.normal(0,0.6,(11,1))\n",
    "t"
   ]
  },
  {
   "cell_type": "code",
   "execution_count": 138,
   "metadata": {
    "collapsed": false
   },
   "outputs": [
    {
     "data": {
      "text/plain": [
       "<matplotlib.collections.PathCollection at 0x7f87b3ddc278>"
      ]
     },
     "execution_count": 138,
     "metadata": {},
     "output_type": "execute_result"
    },
    {
     "data": {
      "image/png": "[encoded data removed]",
      "text/plain": [
       "<matplotlib.figure.Figure at 0x7f87b3e924e0>"
      ]
     },
     "metadata": {},
     "output_type": "display_data"
    }
   ],
   "source": [
    "plt.scatter(x,t)"
   ]
  },
  {
   "cell_type": "code",
   "execution_count": 139,
   "metadata": {
    "collapsed": false
   },
   "outputs": [
    {
     "data": {
      "text/plain": [
       "array([[          1,           0,           0,           0,           0,\n",
       "                  0,           0,           0,           0,           0,\n",
       "                  0],\n",
       "       [          1,           1,           1,           1,           1,\n",
       "                  1,           1,           1,           1,           1,\n",
       "                  1],\n",
       "       [          1,           2,           4,           8,          16,\n",
       "                 32,          64,         128,         256,         512,\n",
       "               1024],\n",
       "       [          1,           3,           9,          27,          81,\n",
       "                243,         729,        2187,        6561,       19683,\n",
       "              59049],\n",
       "       [          1,           4,          16,          64,         256,\n",
       "               1024,        4096,       16384,       65536,      262144,\n",
       "            1048576],\n",
       "       [          1,           5,          25,         125,         625,\n",
       "               3125,       15625,       78125,      390625,     1953125,\n",
       "            9765625],\n",
       "       [          1,           6,          36,         216,        1296,\n",
       "               7776,       46656,      279936,     1679616,    10077696,\n",
       "           60466176],\n",
       "       [          1,           7,          49,         343,        2401,\n",
       "              16807,      117649,      823543,     5764801,    40353607,\n",
       "          282475249],\n",
       "       [          1,           8,          64,         512,        4096,\n",
       "              32768,      262144,     2097152,    16777216,   134217728,\n",
       "         1073741824],\n",
       "       [          1,           9,          81,         729,        6561,\n",
       "              59049,      531441,     4782969,    43046721,   387420489,\n",
       "         3486784401],\n",
       "       [          1,          10,         100,        1000,       10000,\n",
       "             100000,     1000000,    10000000,   100000000,  1000000000,\n",
       "        10000000000]])"
      ]
     },
     "execution_count": 139,
     "metadata": {},
     "output_type": "execute_result"
    }
   ],
   "source": [
    "phi = np.concatenate([x**0,x,x**2, x**3, x**4,x**5,x**6,x**7,x**8,x**9,x**10], axis=1)\n",
    "phi"
   ]
  },
  {
   "cell_type": "code",
   "execution_count": 155,
   "metadata": {
    "collapsed": true
   },
   "outputs": [],
   "source": [
    "w= beta.dot(np.linalg.inv(alpha+beta.dot(phi.T.dot(phi))).dot(phi.T).dot(t))\n"
   ]
  },
  {
   "cell_type": "code",
   "execution_count": 156,
   "metadata": {
    "collapsed": false
   },
   "outputs": [
    {
     "data": {
      "text/plain": [
       "array([[ -4.62255968e-01],\n",
       "       [  7.61892202e-01],\n",
       "       [  1.97671762e-01],\n",
       "       [ -2.11372730e-01],\n",
       "       [  1.79152353e-01],\n",
       "       [ -6.36263300e-02],\n",
       "       [  1.06444932e-02],\n",
       "       [ -8.45226335e-04],\n",
       "       [  2.57273431e-05],\n",
       "       [ -5.46991735e-14],\n",
       "       [ -1.51633366e-15]])"
      ]
     },
     "execution_count": 156,
     "metadata": {},
     "output_type": "execute_result"
    }
   ],
   "source": [
    "w"
   ]
  },
  {
   "cell_type": "code",
   "execution_count": 157,
   "metadata": {
    "collapsed": false
   },
   "outputs": [
    {
     "data": {
      "text/plain": [
       "[<matplotlib.lines.Line2D at 0x7f87b3c289e8>]"
      ]
     },
     "execution_count": 157,
     "metadata": {},
     "output_type": "execute_result"
    },
    {
     "data": {
      "image/png": "[encoded data removed]",
      "text/plain": [
       "<matplotlib.figure.Figure at 0x7f87b3c28b00>"
      ]
     },
     "metadata": {},
     "output_type": "display_data"
    }
   ],
   "source": [
    "plt.scatter(x,t)\n",
    "plt.plot(x,phi.dot(w))"
   ]
  },
  {
   "cell_type": "code",
   "execution_count": null,
   "metadata": {
    "collapsed": true
   },
   "outputs": [],
   "source": []
  },
  {
   "cell_type": "code",
   "execution_count": null,
   "metadata": {
    "collapsed": true
   },
   "outputs": [],
   "source": []
  },
  {
   "cell_type": "code",
   "execution_count": null,
   "metadata": {
    "collapsed": true
   },
   "outputs": [],
   "source": []
  }
 ],
 "metadata": {
  "anaconda-cloud": {},
  "kernelspec": {
   "display_name": "Python [conda env:p3]",
   "language": "python",
   "name": "conda-env-p3-py"
  },
  "language_info": {
   "codemirror_mode": {
    "name": "ipython",
    "version": 3
   },
   "file_extension": ".py",
   "mimetype": "text/x-python",
   "name": "python",
   "nbconvert_exporter": "python",
   "pygments_lexer": "ipython3",
   "version": "3.5.2"
  }
 },
 "nbformat": 4,
 "nbformat_minor": 1
}
